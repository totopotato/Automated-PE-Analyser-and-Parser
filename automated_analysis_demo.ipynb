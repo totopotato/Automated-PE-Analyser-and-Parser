{
 "cells": [
  {
   "cell_type": "code",
   "execution_count": 1,
   "id": "377b30f4",
   "metadata": {},
   "outputs": [
    {
     "data": {
      "text/plain": [
       "0"
      ]
     },
     "execution_count": 1,
     "metadata": {},
     "output_type": "execute_result"
    }
   ],
   "source": [
    "import os\n",
    "import sys\n",
    "import subprocess\n",
    "import idb\n",
    "import pefile\n",
    "import lief\n",
    "import pandas as pd\n",
    "import numpy as np\n",
    "\n",
    "pe_path = \"C:\\\\Users\\\\Christopher\\\\ChromeSetup.exe\"\n",
    "ida_path = os.path.join(os.environ['PROGRAMFILES'], \"IDA 7.2\", \"idat.exe\")\n",
    "\n",
    "pe = pefile.PE(pe_path, fast_load=True)\n",
    "binary = lief.parse(pe_path)\n",
    "subprocess.call([ida_path, \"-B\", pe_path])"
   ]
  },
  {
   "cell_type": "code",
   "execution_count": 2,
   "id": "1f9dd8ac",
   "metadata": {},
   "outputs": [
    {
     "name": "stdout",
     "output_type": "stream",
     "text": [
      "Section Name \t SizeOfRawData\n",
      ".text\u0000\u0000\u0000 \t\t 83456\n",
      ".rdata\u0000\u0000 \t\t 28160\n",
      ".data\u0000\u0000\u0000 \t\t 2560\n",
      ".rsrc\u0000\u0000\u0000 \t\t 1199616\n",
      ".reloc\u0000\u0000 \t\t 4608\n"
     ]
    }
   ],
   "source": [
    "#Parse PE Section\n",
    "\n",
    "sections = []\n",
    "print(\"Section Name \\t SizeOfRawData\")\n",
    "\n",
    "for section in pe.sections:\n",
    "    sections.append([section.Name.decode('UTF-8'), section.SizeOfRawData])\n",
    "    print(section.Name.decode('UTF-8'), \"\\t\\t\", section.SizeOfRawData)"
   ]
  },
  {
   "cell_type": "code",
   "execution_count": 3,
   "id": "f5d859ba",
   "metadata": {
    "scrolled": true
   },
   "outputs": [
    {
     "name": "stdout",
     "output_type": "stream",
     "text": [
      "KERNEL32.dll\n",
      "\t 0x416000 QueryPerformanceCounter\n",
      "\t 0x416004 GetCurrentProcessId\n",
      "\t 0x416008 GetCurrentThreadId\n",
      "\t 0x41600c GetSystemTimeAsFileTime\n",
      "\t 0x416010 InitializeSListHead\n",
      "\t 0x416014 IsDebuggerPresent\n",
      "\t 0x416018 UnhandledExceptionFilter\n",
      "\t 0x41601c SetUnhandledExceptionFilter\n",
      "\t 0x416020 GetStartupInfoW\n",
      "\t 0x416024 IsProcessorFeaturePresent\n",
      "\t 0x416028 GetModuleHandleW\n",
      "\t 0x41602c GetCurrentProcess\n",
      "\t 0x416030 TerminateProcess\n",
      "\t 0x416034 RtlUnwind\n",
      "\t 0x416038 GetLastError\n",
      "\t 0x41603c SetLastError\n",
      "\t 0x416040 EnterCriticalSection\n",
      "\t 0x416044 LeaveCriticalSection\n",
      "\t 0x416048 DeleteCriticalSection\n",
      "\t 0x41604c InitializeCriticalSectionAndSpinCount\n",
      "\t 0x416050 TlsAlloc\n",
      "\t 0x416054 TlsGetValue\n",
      "\t 0x416058 TlsSetValue\n",
      "\t 0x41605c TlsFree\n",
      "\t 0x416060 FreeLibrary\n",
      "\t 0x416064 GetProcAddress\n",
      "\t 0x416068 LoadLibraryExW\n",
      "\t 0x41606c RaiseException\n",
      "\t 0x416070 GetStdHandle\n",
      "\t 0x416074 WriteFile\n",
      "\t 0x416078 GetModuleFileNameW\n",
      "\t 0x41607c GetModuleFileNameA\n",
      "\t 0x416080 MultiByteToWideChar\n",
      "\t 0x416084 WideCharToMultiByte\n",
      "\t 0x416088 ExitProcess\n",
      "\t 0x41608c GetModuleHandleExW\n",
      "\t 0x416090 GetACP\n",
      "\t 0x416094 OutputDebugStringW\n",
      "\t 0x416098 CloseHandle\n",
      "\t 0x41609c HeapAlloc\n",
      "\t 0x4160a0 HeapFree\n",
      "\t 0x4160a4 FindClose\n",
      "\t 0x4160a8 FindFirstFileExA\n",
      "\t 0x4160ac FindNextFileA\n",
      "\t 0x4160b0 IsValidCodePage\n",
      "\t 0x4160b4 GetOEMCP\n",
      "\t 0x4160b8 GetCPInfo\n",
      "\t 0x4160bc GetCommandLineA\n",
      "\t 0x4160c0 GetCommandLineW\n",
      "\t 0x4160c4 GetEnvironmentStringsW\n",
      "\t 0x4160c8 FreeEnvironmentStringsW\n",
      "\t 0x4160cc LCMapStringW\n",
      "\t 0x4160d0 SetStdHandle\n",
      "\t 0x4160d4 GetFileType\n",
      "\t 0x4160d8 GetStringTypeW\n",
      "\t 0x4160dc GetProcessHeap\n",
      "\t 0x4160e0 HeapSize\n",
      "\t 0x4160e4 HeapReAlloc\n",
      "\t 0x4160e8 FlushFileBuffers\n",
      "\t 0x4160ec GetConsoleCP\n",
      "\t 0x4160f0 GetConsoleMode\n",
      "\t 0x4160f4 SetFilePointerEx\n",
      "\t 0x4160f8 WriteConsoleW\n",
      "\t 0x4160fc DecodePointer\n",
      "\t 0x416100 CreateFileW\n",
      "\t 0x416104 GetExitCodeProcess\n",
      "\t 0x416108 CreateProcessW\n",
      "\t 0x41610c WaitForSingleObject\n",
      "\t 0x416110 SetFilePointer\n",
      "\t 0x416114 CreateDirectoryW\n",
      "\t 0x416118 SizeofResource\n",
      "\t 0x41611c RemoveDirectoryW\n",
      "\t 0x416120 GetTempPathW\n",
      "\t 0x416124 FormatMessageW\n",
      "\t 0x416128 LockResource\n",
      "\t 0x41612c DeleteFileW\n",
      "\t 0x416130 FindResourceExW\n",
      "\t 0x416134 LoadResource\n",
      "\t 0x416138 FindResourceW\n",
      "\t 0x41613c HeapDestroy\n",
      "\t 0x416140 LocalFree\n",
      "\t 0x416144 VerSetConditionMask\n",
      "\t 0x416148 CopyFileW\n",
      "\t 0x41614c VerifyVersionInfoW\n",
      "\t 0x416150 GetTempFileNameW\n",
      "\t 0x416154 lstrcmpiW\n",
      "\t 0x416158 UnmapViewOfFile\n",
      "\t 0x41615c CreateFileMappingW\n",
      "\t 0x416160 MapViewOfFile\n",
      "\t 0x416164 VirtualQuery\n",
      "\t 0x416168 ReadFile\n",
      "SHLWAPI.dll\n",
      "\t 0x41617c PathQuoteSpacesW\n",
      "\t 0x416180 PathAppendW\n",
      "ole32.dll\n",
      "\t 0x416194 CoUninitialize\n",
      "\t 0x416198 CoInitializeEx\n",
      "SHELL32.dll\n",
      "\t 0x416170 SHGetFolderPathW\n"
     ]
    },
    {
     "ename": "AttributeError",
     "evalue": "'NoneType' object has no attribute 'decode'",
     "output_type": "error",
     "traceback": [
      "\u001b[1;31m---------------------------------------------------------------------------\u001b[0m",
      "\u001b[1;31mAttributeError\u001b[0m                            Traceback (most recent call last)",
      "\u001b[1;32mC:\\Users\\CHRIST~1\\AppData\\Local\\Temp/ipykernel_4732/1167233734.py\u001b[0m in \u001b[0;36m<module>\u001b[1;34m\u001b[0m\n\u001b[0;32m      7\u001b[0m     \u001b[0mprint\u001b[0m\u001b[1;33m(\u001b[0m\u001b[0mentry\u001b[0m\u001b[1;33m.\u001b[0m\u001b[0mdll\u001b[0m\u001b[1;33m.\u001b[0m\u001b[0mdecode\u001b[0m\u001b[1;33m(\u001b[0m\u001b[1;34m'UTF-8'\u001b[0m\u001b[1;33m)\u001b[0m\u001b[1;33m)\u001b[0m\u001b[1;33m\u001b[0m\u001b[1;33m\u001b[0m\u001b[0m\n\u001b[0;32m      8\u001b[0m     \u001b[1;32mfor\u001b[0m \u001b[0mimp\u001b[0m \u001b[1;32min\u001b[0m \u001b[0mentry\u001b[0m\u001b[1;33m.\u001b[0m\u001b[0mimports\u001b[0m\u001b[1;33m:\u001b[0m\u001b[1;33m\u001b[0m\u001b[1;33m\u001b[0m\u001b[0m\n\u001b[1;32m----> 9\u001b[1;33m         \u001b[0mimports\u001b[0m\u001b[1;33m.\u001b[0m\u001b[0mappend\u001b[0m\u001b[1;33m(\u001b[0m\u001b[1;33m[\u001b[0m\u001b[0mentry\u001b[0m\u001b[1;33m.\u001b[0m\u001b[0mdll\u001b[0m\u001b[1;33m.\u001b[0m\u001b[0mdecode\u001b[0m\u001b[1;33m(\u001b[0m\u001b[1;34m'UTF-8'\u001b[0m\u001b[1;33m)\u001b[0m\u001b[1;33m,\u001b[0m \u001b[0mhex\u001b[0m\u001b[1;33m(\u001b[0m\u001b[0mimp\u001b[0m\u001b[1;33m.\u001b[0m\u001b[0maddress\u001b[0m\u001b[1;33m)\u001b[0m\u001b[1;33m,\u001b[0m \u001b[0mimp\u001b[0m\u001b[1;33m.\u001b[0m\u001b[0mname\u001b[0m\u001b[1;33m.\u001b[0m\u001b[0mdecode\u001b[0m\u001b[1;33m(\u001b[0m\u001b[1;34m'UTF-8'\u001b[0m\u001b[1;33m)\u001b[0m\u001b[1;33m]\u001b[0m\u001b[1;33m)\u001b[0m\u001b[1;33m\u001b[0m\u001b[1;33m\u001b[0m\u001b[0m\n\u001b[0m\u001b[0;32m     10\u001b[0m         \u001b[0mprint\u001b[0m\u001b[1;33m(\u001b[0m\u001b[1;34m'\\t'\u001b[0m\u001b[1;33m,\u001b[0m \u001b[0mhex\u001b[0m\u001b[1;33m(\u001b[0m\u001b[0mimp\u001b[0m\u001b[1;33m.\u001b[0m\u001b[0maddress\u001b[0m\u001b[1;33m)\u001b[0m\u001b[1;33m,\u001b[0m \u001b[0mimp\u001b[0m\u001b[1;33m.\u001b[0m\u001b[0mname\u001b[0m\u001b[1;33m.\u001b[0m\u001b[0mdecode\u001b[0m\u001b[1;33m(\u001b[0m\u001b[1;34m'UTF-8'\u001b[0m\u001b[1;33m)\u001b[0m\u001b[1;33m)\u001b[0m\u001b[1;33m\u001b[0m\u001b[1;33m\u001b[0m\u001b[0m\n",
      "\u001b[1;31mAttributeError\u001b[0m: 'NoneType' object has no attribute 'decode'"
     ]
    }
   ],
   "source": [
    "#Parse Import Address Table\n",
    "\n",
    "imports = []\n",
    "pe.parse_data_directories()\n",
    "\n",
    "for entry in pe.DIRECTORY_ENTRY_IMPORT:\n",
    "    print(entry.dll.decode('UTF-8'))\n",
    "    for imp in entry.imports:\n",
    "        imports.append([entry.dll.decode('UTF-8'), hex(imp.address), imp.name.decode('UTF-8')])\n",
    "        print('\\t', hex(imp.address), imp.name.decode('UTF-8'))"
   ]
  },
  {
   "cell_type": "code",
   "execution_count": null,
   "id": "09c43a77",
   "metadata": {},
   "outputs": [],
   "source": [
    "# Parse Dynamic Import using IDA Python Script"
   ]
  },
  {
   "cell_type": "raw",
   "id": "39049ff7",
   "metadata": {},
   "source": [
    "The IDA Python Script to parse Dynamic Import\n",
    "\n",
    "for func in idautils.Functions():\n",
    "    flags = idc.get_func_attr(func, FUNCATTR_FLAGS)\n",
    "    if flags & FUNC_LIB or flags & FUNC_THUNK:\n",
    "        continue\n",
    "    dism_addr = list(idautils.FuncItems(func))\n",
    "    for line in dism_addr:\n",
    "        m = idc.print_insn_mnem(line)\n",
    "        if m == 'call' or m == 'jmp':\n",
    "            op = idc.get_operand_type(line, 0)\n",
    "            if op == o_reg:\n",
    "                print(\"0x%x %s\" % (line, idc.generate_disasm_line(line, 0)))"
   ]
  },
  {
   "cell_type": "code",
   "execution_count": 4,
   "id": "c87ad2d1",
   "metadata": {},
   "outputs": [
    {
     "data": {
      "text/plain": [
       "0"
      ]
     },
     "execution_count": 4,
     "metadata": {},
     "output_type": "execute_result"
    }
   ],
   "source": [
    "# Run the script\n",
    "\n",
    "subprocess.call([ida_path, \"-B\", \"-Sscript.py\", pe_path])"
   ]
  },
  {
   "cell_type": "code",
   "execution_count": 5,
   "id": "408358d5",
   "metadata": {
    "scrolled": true
   },
   "outputs": [
    {
     "data": {
      "text/plain": [
       "['[[4199393L',\n",
       " \" 'call    esi ; VerSetConditionMask']\",\n",
       " ' [4199397L',\n",
       " \" 'call    esi ; VerSetConditionMask']\",\n",
       " ' [4199401L',\n",
       " \" 'call    esi ; VerSetConditionMask']\",\n",
       " ' [4203173L',\n",
       " \" 'call    eax']\",\n",
       " ' [4205336L',\n",
       " \" 'call    edx']\",\n",
       " ' [4205545L',\n",
       " \" 'call    edi ; GetLastError']\",\n",
       " ' [4205585L',\n",
       " \" 'call    edi ; GetLastError']\",\n",
       " ' [4206821L',\n",
       " \" 'call    eax']\",\n",
       " ' [4207156L',\n",
       " \" 'call    esi ; CloseHandle']\",\n",
       " ' [4207161L',\n",
       " \" 'call    esi ; CloseHandle']\",\n",
       " ' [4216009L',\n",
       " \" 'call    edi']\",\n",
       " ' [4216053L',\n",
       " \" 'call    edi']\",\n",
       " ' [4217234L',\n",
       " \" 'call    esi ; ___DestructExceptionObject']\",\n",
       " ' [4242103L',\n",
       " \" 'call    esi']]\"]"
      ]
     },
     "execution_count": 5,
     "metadata": {},
     "output_type": "execute_result"
    }
   ],
   "source": [
    "# Retrieving the output\n",
    "\n",
    "read = open('output.txt', encoding=\"utf8\")\n",
    "dynamic_imports = read.read().split(',')\n",
    "\n",
    "dynamic_imports"
   ]
  },
  {
   "cell_type": "code",
   "execution_count": 6,
   "id": "7f2f055c",
   "metadata": {},
   "outputs": [
    {
     "name": "stdout",
     "output_type": "stream",
     "text": [
      "[['.text\\x00\\x00\\x00', 28672], ['.rdata\\x00\\x00', 24576], ['.data\\x00\\x00\\x00', 8192], ['.rsrc\\x00\\x00\\x00', 163840]]\n"
     ]
    }
   ],
   "source": [
    "print(sections)"
   ]
  },
  {
   "cell_type": "code",
   "execution_count": 7,
   "id": "9483f26e",
   "metadata": {
    "scrolled": true
   },
   "outputs": [
    {
     "name": "stdout",
     "output_type": "stream",
     "text": [
      "[['KERNEL32.dll', '0x408018', 'GetFileSizeEx'], ['KERNEL32.dll', '0x40801c', 'CreateFileA'], ['KERNEL32.dll', '0x408020', 'InitializeCriticalSection'], ['KERNEL32.dll', '0x408024', 'DeleteCriticalSection'], ['KERNEL32.dll', '0x408028', 'GetFileSize'], ['KERNEL32.dll', '0x40802c', 'LeaveCriticalSection'], ['KERNEL32.dll', '0x408030', 'EnterCriticalSection'], ['KERNEL32.dll', '0x408034', 'SizeofResource'], ['KERNEL32.dll', '0x408038', 'LockResource'], ['KERNEL32.dll', '0x40803c', 'LoadResource'], ['KERNEL32.dll', '0x408040', 'FindResourceA'], ['KERNEL32.dll', '0x408044', 'SetErrorMode'], ['KERNEL32.dll', '0x408048', 'VirtualAlloc'], ['KERNEL32.dll', '0x40804c', 'VirtualFree'], ['KERNEL32.dll', '0x408050', 'FreeLibrary'], ['KERNEL32.dll', '0x408054', 'HeapAlloc'], ['KERNEL32.dll', '0x408058', 'GetProcessHeap'], ['KERNEL32.dll', '0x40805c', 'GetModuleHandleA'], ['KERNEL32.dll', '0x408060', 'SetLastError'], ['KERNEL32.dll', '0x408064', 'VirtualProtect'], ['KERNEL32.dll', '0x408068', 'IsBadReadPtr'], ['KERNEL32.dll', '0x40806c', 'HeapFree'], ['KERNEL32.dll', '0x408070', 'SystemTimeToFileTime'], ['KERNEL32.dll', '0x408074', 'LocalFileTimeToFileTime'], ['KERNEL32.dll', '0x408078', 'CreateDirectoryA'], ['KERNEL32.dll', '0x40807c', 'GetStartupInfoA'], ['KERNEL32.dll', '0x408080', 'ReadFile'], ['KERNEL32.dll', '0x408084', 'SetFilePointer'], ['KERNEL32.dll', '0x408088', 'WriteFile'], ['KERNEL32.dll', '0x40808c', 'SetFileTime'], ['KERNEL32.dll', '0x408090', 'GetFileAttributesA'], ['KERNEL32.dll', '0x408094', 'GetCurrentDirectoryA'], ['KERNEL32.dll', '0x408098', 'SetCurrentDirectoryA'], ['KERNEL32.dll', '0x40809c', 'GlobalAlloc'], ['KERNEL32.dll', '0x4080a0', 'LoadLibraryA'], ['KERNEL32.dll', '0x4080a4', 'GetProcAddress'], ['KERNEL32.dll', '0x4080a8', 'GlobalFree'], ['KERNEL32.dll', '0x4080ac', 'GetModuleFileNameA'], ['KERNEL32.dll', '0x4080b0', 'CloseHandle'], ['USER32.dll', '0x408158', 'wsprintfA'], ['ADVAPI32.dll', '0x408000', 'CryptDecrypt'], ['ADVAPI32.dll', '0x408004', 'CryptDestroyKey'], ['ADVAPI32.dll', '0x408008', 'CryptReleaseContext'], ['ADVAPI32.dll', '0x40800c', 'CryptImportKey'], ['ADVAPI32.dll', '0x408010', 'CryptAcquireContextA'], ['WS2_32.dll', '0x408160', 'WSAStartup'], ['WS2_32.dll', '0x408164', 'inet_addr'], ['WS2_32.dll', '0x408168', 'WSACleanup'], ['MSVCRT.dll', '0x4080b8', '_controlfp'], ['MSVCRT.dll', '0x4080bc', '__set_app_type'], ['MSVCRT.dll', '0x4080c0', '__p__fmode'], ['MSVCRT.dll', '0x4080c4', '_adjust_fdiv'], ['MSVCRT.dll', '0x4080c8', '__setusermatherr'], ['MSVCRT.dll', '0x4080cc', '_initterm'], ['MSVCRT.dll', '0x4080d0', '__getmainargs'], ['MSVCRT.dll', '0x4080d4', '_acmdln'], ['MSVCRT.dll', '0x4080d8', 'exit'], ['MSVCRT.dll', '0x4080dc', '_XcptFilter'], ['MSVCRT.dll', '0x4080e0', '_exit'], ['MSVCRT.dll', '0x4080e4', '??1type_info@@UAE@XZ'], ['MSVCRT.dll', '0x4080e8', '__p__commode'], ['MSVCRT.dll', '0x4080ec', 'strcpy'], ['MSVCRT.dll', '0x4080f0', 'memset'], ['MSVCRT.dll', '0x4080f4', 'strlen'], ['MSVCRT.dll', '0x4080f8', 'memcpy'], ['MSVCRT.dll', '0x4080fc', '__CxxFrameHandler'], ['MSVCRT.dll', '0x408100', '??3@YAXPAX@Z'], ['MSVCRT.dll', '0x408104', 'memcmp'], ['MSVCRT.dll', '0x408108', '_except_handler3'], ['MSVCRT.dll', '0x40810c', '_local_unwind2'], ['MSVCRT.dll', '0x408110', '??2@YAPAXI@Z'], ['MSVCRT.dll', '0x408114', 'sscanf'], ['MSVCRT.dll', '0x408118', 'strcmp'], ['MSVCRT.dll', '0x40811c', '__p___argv'], ['MSVCRT.dll', '0x408120', '__p___argc'], ['MSVCRT.dll', '0x408124', 'strrchr'], ['MSVCRT.dll', '0x408128', 'realloc'], ['MSVCRT.dll', '0x40812c', '_stricmp'], ['MSVCRT.dll', '0x408130', 'free'], ['MSVCRT.dll', '0x408134', 'malloc'], ['MSVCRT.dll', '0x408138', '??0exception@@QAE@ABV0@@Z'], ['MSVCRT.dll', '0x40813c', '??1exception@@UAE@XZ'], ['MSVCRT.dll', '0x408140', '??0exception@@QAE@ABQBD@Z'], ['MSVCRT.dll', '0x408144', '_CxxThrowException'], ['MSVCRT.dll', '0x408148', 'calloc'], ['MSVCRT.dll', '0x40814c', 'strcat'], ['MSVCRT.dll', '0x408150', '_mbsstr']]\n"
     ]
    }
   ],
   "source": [
    "print(imports)"
   ]
  },
  {
   "cell_type": "code",
   "execution_count": 6,
   "id": "e8d19996",
   "metadata": {},
   "outputs": [],
   "source": [
    "# Write output to text file\n",
    "\n",
    "file = open('analysis_output.log','w')\n",
    "\n",
    "file.write('[section] = [')\n",
    "for i in sections:\n",
    "    file.write(str(i))\n",
    "    \n",
    "file.write(']')\n",
    "\n",
    "file.write('[API] = [')\n",
    "for i in imports:\n",
    "    file.write(str(i))\n",
    "\n",
    "file.write(']')\n",
    "\n",
    "file.write('[dynamic_import] = [')\n",
    "for i in dynamic_imports:\n",
    "    file.write(str(i))\n",
    "\n",
    "file.write(']')\n",
    "\n",
    "file.close()"
   ]
  },
  {
   "cell_type": "code",
   "execution_count": null,
   "id": "b81fce0f",
   "metadata": {},
   "outputs": [],
   "source": []
  }
 ],
 "metadata": {
  "kernelspec": {
   "display_name": "Python 3 (ipykernel)",
   "language": "python",
   "name": "python3"
  },
  "language_info": {
   "codemirror_mode": {
    "name": "ipython",
    "version": 3
   },
   "file_extension": ".py",
   "mimetype": "text/x-python",
   "name": "python",
   "nbconvert_exporter": "python",
   "pygments_lexer": "ipython3",
   "version": "3.9.7"
  }
 },
 "nbformat": 4,
 "nbformat_minor": 5
}
